{
 "cells": [
  {
   "cell_type": "code",
   "execution_count": 7,
   "id": "cb35f2ea",
   "metadata": {},
   "outputs": [
    {
     "name": "stdout",
     "output_type": "stream",
     "text": [
      "=== Ejercicio 1 ===\n",
      "Arreglo original:\n",
      "[ 0  1  2  3  4  5  6  7  8  9 10 11 12 13 14 15 16 17 18 19]\n",
      "Arreglo con impares reemplazados por -1:\n",
      "[ 0 -1  2 -1  4 -1  6 -1  8 -1 10 -1 12 -1 14 -1 16 -1 18 -1]\n",
      "Prueba con nuevo arreglo:\n",
      "[10 -1 12 -1 14 -1 16 -1 18 -1 20 -1 22 -1 24 -1 26 -1 28 -1]\n"
     ]
    }
   ],
   "source": [
    "# Actividad Autónoma\n",
    "# Manipulación Avanzada de Arreglos con NumPy\n",
    "# Resolución de tres ejercicios prácticos\n",
    "\n",
    "import numpy as np\n",
    "\n",
    "\n",
    "## Ejercicio 1: Cambiar los valores impares de un arreglo a -1\n",
    "\n",
    "\n",
    "print(\"=== Ejercicio 1 ===\")\n",
    "# Crear un arreglo del 0 al 19\n",
    "arr = np.arange(20)\n",
    "print(\"Arreglo original:\")\n",
    "print(arr)\n",
    "\n",
    "# Cambiar los valores impares por -1 usando indexación booleana\n",
    "arr_modificado = arr.copy()\n",
    "arr_modificado[arr_modificado % 2 == 1] = -1\n",
    "print(\"Arreglo con impares reemplazados por -1:\")\n",
    "print(arr_modificado)\n",
    "\n",
    "# Prueba adicional\n",
    "arr2 = np.arange(10, 30)\n",
    "arr2[arr2 % 2 == 1] = -1\n",
    "print(\"Prueba con nuevo arreglo:\")\n",
    "print(arr2)\n",
    "\n"
   ]
  },
  {
   "cell_type": "code",
   "execution_count": 8,
   "id": "6d6b0388",
   "metadata": {},
   "outputs": [
    {
     "name": "stdout",
     "output_type": "stream",
     "text": [
      "\n",
      "=== Ejercicio 2 ===\n",
      "Arreglo 1D:\n",
      "[ 0  1  2  3  4  5  6  7  8  9 10 11 12 13 14 15]\n",
      "Matriz 4x4:\n",
      "[[ 0  1  2  3]\n",
      " [ 4  5  6  7]\n",
      " [ 8  9 10 11]\n",
      " [12 13 14 15]]\n",
      "Otra matriz 4x4:\n",
      "[[100 101 102 103]\n",
      " [104 105 106 107]\n",
      " [108 109 110 111]\n",
      " [112 113 114 115]]\n"
     ]
    }
   ],
   "source": [
    "\n",
    "## Ejercicio 2: Convertir un arreglo 1D de 16 elementos a 4x4\n",
    "\n",
    "\n",
    "print(\"\\n=== Ejercicio 2 ===\")\n",
    "# Crear un arreglo 1D de 16 elementos\n",
    "arr_1d = np.arange(16)\n",
    "print(\"Arreglo 1D:\")\n",
    "print(arr_1d)\n",
    "\n",
    "# Convertir a una matriz 4x4 usando reshape\n",
    "matriz_4x4 = arr_1d.reshape((4, 4))\n",
    "print(\"Matriz 4x4:\")\n",
    "print(matriz_4x4)\n",
    "\n",
    "# Prueba adicional con otro rango\n",
    "otra_matriz = np.arange(100, 116).reshape((4, 4))\n",
    "print(\"Otra matriz 4x4:\")\n",
    "print(otra_matriz)\n"
   ]
  },
  {
   "cell_type": "code",
   "execution_count": 9,
   "id": "0d569dba",
   "metadata": {},
   "outputs": [
    {
     "name": "stdout",
     "output_type": "stream",
     "text": [
      "\n",
      "=== Ejercicio 3 ===\n",
      "Matriz A:\n",
      "[[1 2 3]\n",
      " [4 5 6]]\n",
      "Matriz B:\n",
      "[[ 7  8  9]\n",
      " [10 11 12]]\n",
      "Concatenación horizontal:\n",
      "[[ 1  2  3  7  8  9]\n",
      " [ 4  5  6 10 11 12]]\n",
      "Concatenación vertical:\n",
      "[[ 1  2  3]\n",
      " [ 4  5  6]\n",
      " [ 7  8  9]\n",
      " [10 11 12]]\n",
      "Otra concatenación horizontal:\n",
      "[[ 1  2  7  8]\n",
      " [ 3  4  9 10]\n",
      " [ 5  6 11 12]]\n",
      "Otra concatenación vertical:\n",
      "[[ 1  2]\n",
      " [ 3  4]\n",
      " [ 5  6]\n",
      " [ 7  8]\n",
      " [ 9 10]\n",
      " [11 12]]\n"
     ]
    }
   ],
   "source": [
    "\n",
    "## Ejercicio 3: Concatenar dos matrices horizontal y verticalmente\n",
    "\n",
    "\n",
    "print(\"\\n=== Ejercicio 3 ===\")\n",
    "# Crear dos matrices 2x3\n",
    "A = np.array([[1, 2, 3], [4, 5, 6]])\n",
    "B = np.array([[7, 8, 9], [10, 11, 12]])\n",
    "\n",
    "print(\"Matriz A:\")\n",
    "print(A)\n",
    "print(\"Matriz B:\")\n",
    "print(B)\n",
    "\n",
    "# Concatenación horizontal (axis=1)\n",
    "concat_h = np.concatenate((A, B), axis=1)\n",
    "print(\"Concatenación horizontal:\")\n",
    "print(concat_h)\n",
    "\n",
    "# Concatenación vertical (axis=0)\n",
    "concat_v = np.concatenate((A, B), axis=0)\n",
    "print(\"Concatenación vertical:\")\n",
    "print(concat_v)\n",
    "\n",
    "# Prueba adicional con matrices 3x2\n",
    "C = np.array([[1, 2], [3, 4], [5, 6]])\n",
    "D = np.array([[7, 8], [9, 10], [11, 12]])\n",
    "\n",
    "print(\"Otra concatenación horizontal:\")\n",
    "print(np.concatenate((C, D), axis=1))\n",
    "\n",
    "print(\"Otra concatenación vertical:\")\n",
    "print(np.concatenate((C, D), axis=0))"
   ]
  }
 ],
 "metadata": {
  "kernelspec": {
   "display_name": "base",
   "language": "python",
   "name": "python3"
  },
  "language_info": {
   "codemirror_mode": {
    "name": "ipython",
    "version": 3
   },
   "file_extension": ".py",
   "mimetype": "text/x-python",
   "name": "python",
   "nbconvert_exporter": "python",
   "pygments_lexer": "ipython3",
   "version": "3.12.10"
  }
 },
 "nbformat": 4,
 "nbformat_minor": 5
}
